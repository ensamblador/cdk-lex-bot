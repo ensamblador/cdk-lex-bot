{
 "metadata": {
  "language_info": {
   "codemirror_mode": {
    "name": "ipython",
    "version": 3
   },
   "file_extension": ".py",
   "mimetype": "text/x-python",
   "name": "python",
   "nbconvert_exporter": "python",
   "pygments_lexer": "ipython3",
   "version": "3.9.1"
  },
  "orig_nbformat": 4,
  "kernelspec": {
   "name": "python3",
   "display_name": "Python 3.9.1 64-bit"
  },
  "interpreter": {
   "hash": "aee8b7b246df8f9039afb4144a1f6fd8d2ca17a180786b69acc140d282b71a49"
  }
 },
 "nbformat": 4,
 "nbformat_minor": 2,
 "cells": [
  {
   "cell_type": "code",
   "execution_count": 120,
   "metadata": {},
   "outputs": [],
   "source": [
    "import json\n",
    "import importlib\n",
    "importlib.reload(lex_bot)\n",
    "importlib.reload(lex_bot.lex)\n",
    "from lex_bot.lex import create_bot, wait_for_build, delete_bot, wait_for_delete, create_or_update_bot\n",
    "from shared.client import get_client\n",
    "\n",
    "client = get_client(\"lex-models\")"
   ]
  },
  {
   "cell_type": "code",
   "execution_count": 121,
   "metadata": {},
   "outputs": [
    {
     "output_type": "stream",
     "name": "stdout",
     "text": [
      "Creando Resource\n"
     ]
    }
   ],
   "source": [
    "print ('Creando Resource')\n",
    "bot_json_file              = 'bot_definitions/get-lawyer-es.json'\n",
    "bot_name                   = 'CT_GET_LAWYER_ES'\n",
    "bot_fulfillment_lambda_arn = 'arn:aws:lambda:us-east-1:625806755153:function:CT-DEV-HOT-MSG-hmnew22C1AE76-As860pVXR6AL'"
   ]
  },
  {
   "cell_type": "code",
   "execution_count": 128,
   "metadata": {},
   "outputs": [
    {
     "output_type": "stream",
     "name": "stdout",
     "text": [
      "{'ResponseMetadata': {'RequestId': '58e8519c-15e9-40a4-9e06-39adc7bab7cb', 'HTTPStatusCode': 200, 'HTTPHeaders': {'content-type': 'application/json', 'date': 'Tue, 15 Jun 2021 15:54:56 GMT', 'x-amzn-requestid': '58e8519c-15e9-40a4-9e06-39adc7bab7cb', 'content-length': '1007', 'connection': 'keep-alive'}, 'RetryAttempts': 0}, 'name': 'CT_GET_LAWYER_ES', 'description': 'Bot description', 'intents': [{'intentName': 'saludo_abogados', 'intentVersion': '$LATEST'}, {'intentName': 'HitByCar_es', 'intentVersion': '$LATEST'}, {'intentName': 'CarCrash_es', 'intentVersion': '$LATEST'}], 'enableModelImprovements': True, 'clarificationPrompt': {'messages': [{'contentType': 'PlainText', 'content': 'No lo entendí, ¿qué le gustaría que haga?'}], 'maxAttempts': 2}, 'abortStatement': {'messages': [{'contentType': 'PlainText', 'content': 'Disculpe, no puedo ayudarlo en este momento'}]}, 'status': 'BUILDING', 'lastUpdatedDate': datetime.datetime(2021, 6, 15, 11, 54, 56, 430000, tzinfo=tzlocal()), 'createdDate': datetime.datetime(2021, 6, 15, 11, 54, 56, 430000, tzinfo=tzlocal()), 'idleSessionTTLInSeconds': 600, 'voiceId': '0', 'checksum': '91b9359b-d42d-49b8-98bb-e2f027530123', 'version': '$LATEST', 'locale': 'es-US', 'childDirected': False, 'createVersion': False, 'detectSentiment': False}\n"
     ]
    }
   ],
   "source": [
    "bot_definition             = json.load(open(bot_json_file))['resource']\n",
    "bot_definition['name']     = bot_name\n",
    "\n",
    "if \"intents\" in bot_definition:\n",
    "    for intent in bot_definition['intents']:\n",
    "        if intent['fulfillmentActivity']['type'] == 'CodeHook':\n",
    "            intent['fulfillmentActivity']['codeHook']['uri'] = bot_fulfillment_lambda_arn\n",
    "\n",
    "response_create = create_or_update_bot(bot_definition)\n",
    "print (response_create)\n",
    "\n",
    "bot_version = response_create['version']\n",
    "\n",
    "wait_for_build(bot_name, bot_version)"
   ]
  },
  {
   "cell_type": "code",
   "execution_count": 126,
   "metadata": {},
   "outputs": [
    {
     "output_type": "execute_result",
     "data": {
      "text/plain": [
       "{'ResponseMetadata': {'RequestId': 'dbdcf998-bb1a-4e3b-ab35-c4b89dbe4f53',\n",
       "  'HTTPStatusCode': 204,\n",
       "  'HTTPHeaders': {'content-type': 'application/json',\n",
       "   'date': 'Tue, 15 Jun 2021 15:54:17 GMT',\n",
       "   'x-amzn-requestid': 'dbdcf998-bb1a-4e3b-ab35-c4b89dbe4f53',\n",
       "   'connection': 'keep-alive'},\n",
       "  'RetryAttempts': 0}}"
      ]
     },
     "metadata": {},
     "execution_count": 126
    }
   ],
   "source": [
    "delete_bot('CT_GET_LAWYER_ES')"
   ]
  },
  {
   "cell_type": "code",
   "execution_count": 127,
   "metadata": {},
   "outputs": [],
   "source": [
    "wait_for_delete('CT_GET_LAWYER_ES')"
   ]
  },
  {
   "cell_type": "code",
   "execution_count": null,
   "metadata": {},
   "outputs": [],
   "source": []
  }
 ]
}